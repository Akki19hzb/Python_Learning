{
 "cells": [
  {
   "cell_type": "code",
   "execution_count": 2,
   "metadata": {
    "collapsed": true
   },
   "outputs": [],
   "source": [
    "import sqlite3"
   ]
  },
  {
   "cell_type": "code",
   "execution_count": 8,
   "metadata": {
    "collapsed": true
   },
   "outputs": [],
   "source": [
    "connection= sqlite3.connect(\"classroom.db\")"
   ]
  },
  {
   "cell_type": "code",
   "execution_count": 9,
   "metadata": {
    "collapsed": true
   },
   "outputs": [],
   "source": [
    "connection.close()"
   ]
  },
  {
   "cell_type": "code",
   "execution_count": 10,
   "metadata": {
    "collapsed": true
   },
   "outputs": [],
   "source": [
    "#create Table\n",
    "connection= sqlite3.connect(\"classroomDB.db\")\n",
    "cursor= connection.cursor()\n",
    "create_table=\"\"\"create table classroom(\n",
    "                id integer primary key,\n",
    "                name varchar(20),\n",
    "                gender char(1),\n",
    "                marks integer);\"\"\"\n",
    "cursor.execute(create_table)\n",
    "connection.commit()\n",
    "connection.close()"
   ]
  },
  {
   "cell_type": "code",
   "execution_count": 22,
   "metadata": {},
   "outputs": [
    {
     "name": "stdout",
     "output_type": "stream",
     "text": [
      "1,Raj,M,98\n",
      "2,Aman,M,99\n"
     ]
    }
   ],
   "source": [
    "classroom_data=[(1,\"Raj\",'M',98),(2,\"Aman\",'M',99)]\n",
    "\n",
    "for student in classroom_data:\n",
    "    print(\"{0},{1},{2},{3}\".format(student[0],student[1],student[2],student[3]))"
   ]
  },
  {
   "cell_type": "code",
   "execution_count": 23,
   "metadata": {
    "collapsed": true
   },
   "outputs": [],
   "source": [
    "classroom_data=[(1,\"Raj\",'M',98),(2,\"Aman\",'M',99)]\n",
    "connection=sqlite3.connect(\"classroomDB.db\")\n",
    "cursor=connection.cursor()\n",
    "for student in classroom_data:\n",
    "    insert_stat= '''insert into classroom \n",
    "                    values({0},\"{1}\",'{2}',{3});'''.format(student[0],student[1],student[2],student[3])\n",
    "    cursor.execute(insert_stat)\n",
    "connection.commit()\n",
    "connection.close()"
   ]
  },
  {
   "cell_type": "code",
   "execution_count": 25,
   "metadata": {},
   "outputs": [
    {
     "name": "stdout",
     "output_type": "stream",
     "text": [
      "(0, '(1)', '(2)', 3)\n",
      "(1, 'Raj', 'M', 98)\n",
      "(2, 'Aman', 'M', 99)\n"
     ]
    }
   ],
   "source": [
    "connection= sqlite3.connect(\"classroomDB.db\")\n",
    "cursor=connection.cursor()\n",
    "query=\"Select * from classroom;\"\n",
    "cursor.execute(query)\n",
    "result=cursor.fetchall()\n",
    "for data in result:\n",
    "    print(data)\n",
    "connection.commit()\n",
    "connection.close()"
   ]
  },
  {
   "cell_type": "code",
   "execution_count": 1,
   "metadata": {},
   "outputs": [
    {
     "name": "stdout",
     "output_type": "stream",
     "text": [
      "\n",
      "\n",
      "Package plan for installation in environment C:\\Users\\Aku\\Anaconda3:\n",
      "\n",
      "The following NEW packages will be INSTALLED:\n",
      "\n",
      "    pymysql:  0.8.0-py36_0         \n",
      "\n",
      "The following packages will be UPDATED:\n",
      "\n",
      "    anaconda: 5.0.1-py36h8316230_2  --> custom-py36h363777c_0\n",
      "    conda:    4.3.30-py36h7e176b0_0 --> 4.5.0-py36_0         \n",
      "    pycosat:  0.6.2-py36hf17546d_1  --> 0.6.3-py36h413d8a4_0 \n",
      "\n"
     ]
    }
   ],
   "source": [
    "!conda install -y -q pymysql"
   ]
  },
  {
   "cell_type": "code",
   "execution_count": 2,
   "metadata": {
    "collapsed": true
   },
   "outputs": [],
   "source": [
    "import pymysql"
   ]
  },
  {
   "cell_type": "code",
   "execution_count": null,
   "metadata": {
    "collapsed": true
   },
   "outputs": [],
   "source": []
  }
 ],
 "metadata": {
  "kernelspec": {
   "display_name": "Python 3",
   "language": "python",
   "name": "python3"
  },
  "language_info": {
   "codemirror_mode": {
    "name": "ipython",
    "version": 3
   },
   "file_extension": ".py",
   "mimetype": "text/x-python",
   "name": "python",
   "nbconvert_exporter": "python",
   "pygments_lexer": "ipython3",
   "version": "3.6.3"
  }
 },
 "nbformat": 4,
 "nbformat_minor": 2
}
