{
 "cells": [
  {
   "cell_type": "code",
   "execution_count": 1,
   "metadata": {},
   "outputs": [
    {
     "name": "stdout",
     "output_type": "stream",
     "text": [
      "[1, 4, 9, 16, 25]\n"
     ]
    }
   ],
   "source": [
    "number=[1,2,3,4,5]\n",
    "sqr_nos=[x**2 for x in number]\n",
    "print(sqr_nos)"
   ]
  },
  {
   "cell_type": "code",
   "execution_count": 2,
   "metadata": {},
   "outputs": [
    {
     "name": "stdout",
     "output_type": "stream",
     "text": [
      "[36, 49, 64, 81]\n"
     ]
    }
   ],
   "source": [
    "#sqr number only if number is greater than 5\n",
    "sqr_nos=[x**2 for x in range(10) if x>5]\n",
    "print(sqr_nos)"
   ]
  },
  {
   "cell_type": "code",
   "execution_count": 5,
   "metadata": {},
   "outputs": [
    {
     "data": {
      "text/plain": [
       "['Python Language', 'Python Programming', 'C Language', 'C Programming']"
      ]
     },
     "execution_count": 5,
     "metadata": {},
     "output_type": "execute_result"
    }
   ],
   "source": [
    "[x+y for x in ['Python ','C '] for y in ['Language','Programming']]"
   ]
  },
  {
   "cell_type": "code",
   "execution_count": 6,
   "metadata": {},
   "outputs": [
    {
     "data": {
      "text/plain": [
       "['pythonlanguage', 'pythonbook', 'Javalanguage', 'Javabook']"
      ]
     },
     "execution_count": 6,
     "metadata": {},
     "output_type": "execute_result"
    }
   ],
   "source": [
    "[x+y for x in ['python','Java'] for y in ['language','book']]"
   ]
  },
  {
   "cell_type": "code",
   "execution_count": 7,
   "metadata": {},
   "outputs": [
    {
     "name": "stdout",
     "output_type": "stream",
     "text": [
      "[0, 10, 20, 30, 40, 50, 60, 70, 80, 90]\n"
     ]
    }
   ],
   "source": [
    "num_list = [y for y in range(100) if y % 2 == 0 if y % 5 == 0]\n",
    "print(num_list)"
   ]
  },
  {
   "cell_type": "code",
   "execution_count": 8,
   "metadata": {},
   "outputs": [
    {
     "name": "stdout",
     "output_type": "stream",
     "text": [
      "['even', 'odd', 'even', 'odd', 'even', 'odd', 'even', 'odd', 'even', 'odd']\n"
     ]
    }
   ],
   "source": [
    "obj=['even' if x%2==0 else 'odd' for x in range(10)]\n",
    "print(obj)"
   ]
  },
  {
   "cell_type": "code",
   "execution_count": 9,
   "metadata": {},
   "outputs": [
    {
     "name": "stdout",
     "output_type": "stream",
     "text": [
      "[<map object at 0x0000004D60E10080>]\n"
     ]
    }
   ],
   "source": [
    "######################## MAP ################################\n",
    "sam_list=['1','2','3']\n",
    "#convert into a list of integers\n",
    "int_list=[map(int,sam_list)]\n",
    "print(int_list)"
   ]
  },
  {
   "cell_type": "code",
   "execution_count": 10,
   "metadata": {},
   "outputs": [
    {
     "name": "stdout",
     "output_type": "stream",
     "text": [
      "{<map object at 0x0000004D60E10080>}\n"
     ]
    }
   ],
   "source": [
    "print(set(int_list))"
   ]
  },
  {
   "cell_type": "code",
   "execution_count": 11,
   "metadata": {},
   "outputs": [
    {
     "name": "stdout",
     "output_type": "stream",
     "text": [
      "<map object at 0x0000004D60E102E8>\n"
     ]
    }
   ],
   "source": [
    "list_a=map(int,sam_list)\n",
    "print(list_a)"
   ]
  },
  {
   "cell_type": "code",
   "execution_count": 12,
   "metadata": {},
   "outputs": [
    {
     "name": "stdout",
     "output_type": "stream",
     "text": [
      "{1, 2, 3}\n"
     ]
    }
   ],
   "source": [
    "a=set(list_a)\n",
    "print(a)"
   ]
  },
  {
   "cell_type": "code",
   "execution_count": 13,
   "metadata": {},
   "outputs": [
    {
     "name": "stdout",
     "output_type": "stream",
     "text": [
      "[]\n"
     ]
    }
   ],
   "source": [
    "b=list(list_a)\n",
    "print(b)"
   ]
  },
  {
   "cell_type": "code",
   "execution_count": 20,
   "metadata": {
    "scrolled": false
   },
   "outputs": [
    {
     "data": {
      "text/plain": [
       "[[0, 0, 0],\n",
       " [0, 0, 1],\n",
       " [0, 0, 2],\n",
       " [0, 0, 3],\n",
       " [0, 0, 4],\n",
       " [0, 1, 0],\n",
       " [0, 1, 1],\n",
       " [0, 1, 2],\n",
       " [0, 1, 3],\n",
       " [0, 1, 4],\n",
       " [0, 2, 0],\n",
       " [0, 2, 1],\n",
       " [0, 2, 2],\n",
       " [0, 2, 3],\n",
       " [0, 3, 0],\n",
       " [0, 3, 1],\n",
       " [0, 3, 2],\n",
       " [0, 3, 4],\n",
       " [0, 4, 0],\n",
       " [0, 4, 1],\n",
       " [0, 4, 3],\n",
       " [0, 4, 4],\n",
       " [1, 0, 0],\n",
       " [1, 0, 1],\n",
       " [1, 0, 2],\n",
       " [1, 0, 3],\n",
       " [1, 0, 4],\n",
       " [1, 1, 0],\n",
       " [1, 1, 1],\n",
       " [1, 1, 2],\n",
       " [1, 1, 3],\n",
       " [1, 2, 0],\n",
       " [1, 2, 1],\n",
       " [1, 2, 2],\n",
       " [1, 2, 4],\n",
       " [1, 3, 0],\n",
       " [1, 3, 1],\n",
       " [1, 3, 3],\n",
       " [1, 3, 4],\n",
       " [1, 4, 0],\n",
       " [1, 4, 2],\n",
       " [1, 4, 3],\n",
       " [1, 4, 4],\n",
       " [2, 0, 0],\n",
       " [2, 0, 1],\n",
       " [2, 0, 2],\n",
       " [2, 0, 3],\n",
       " [2, 1, 0],\n",
       " [2, 1, 1],\n",
       " [2, 1, 2],\n",
       " [2, 1, 4],\n",
       " [2, 2, 0],\n",
       " [2, 2, 1],\n",
       " [2, 2, 3],\n",
       " [2, 2, 4],\n",
       " [2, 3, 0],\n",
       " [2, 3, 2],\n",
       " [2, 3, 3],\n",
       " [2, 3, 4],\n",
       " [2, 4, 1],\n",
       " [2, 4, 2],\n",
       " [2, 4, 3],\n",
       " [2, 4, 4],\n",
       " [3, 0, 0],\n",
       " [3, 0, 1],\n",
       " [3, 0, 2],\n",
       " [3, 0, 4],\n",
       " [3, 1, 0],\n",
       " [3, 1, 1],\n",
       " [3, 1, 3],\n",
       " [3, 1, 4],\n",
       " [3, 2, 0],\n",
       " [3, 2, 2],\n",
       " [3, 2, 3],\n",
       " [3, 2, 4],\n",
       " [3, 3, 1],\n",
       " [3, 3, 2],\n",
       " [3, 3, 3],\n",
       " [3, 3, 4],\n",
       " [3, 4, 0],\n",
       " [3, 4, 1],\n",
       " [3, 4, 2],\n",
       " [3, 4, 3],\n",
       " [3, 4, 4],\n",
       " [4, 0, 0],\n",
       " [4, 0, 1],\n",
       " [4, 0, 3],\n",
       " [4, 0, 4],\n",
       " [4, 1, 0],\n",
       " [4, 1, 2],\n",
       " [4, 1, 3],\n",
       " [4, 1, 4],\n",
       " [4, 2, 1],\n",
       " [4, 2, 2],\n",
       " [4, 2, 3],\n",
       " [4, 2, 4],\n",
       " [4, 3, 0],\n",
       " [4, 3, 1],\n",
       " [4, 3, 2],\n",
       " [4, 3, 3],\n",
       " [4, 3, 4],\n",
       " [4, 4, 0],\n",
       " [4, 4, 1],\n",
       " [4, 4, 2],\n",
       " [4, 4, 3],\n",
       " [4, 4, 4],\n",
       " [5, 0, 0],\n",
       " [5, 0, 2],\n",
       " [5, 0, 3],\n",
       " [5, 0, 4],\n",
       " [5, 1, 1],\n",
       " [5, 1, 2],\n",
       " [5, 1, 3],\n",
       " [5, 1, 4],\n",
       " [5, 2, 0],\n",
       " [5, 2, 1],\n",
       " [5, 2, 2],\n",
       " [5, 2, 3],\n",
       " [5, 2, 4],\n",
       " [5, 3, 0],\n",
       " [5, 3, 1],\n",
       " [5, 3, 2],\n",
       " [5, 3, 3],\n",
       " [5, 3, 4],\n",
       " [5, 4, 0],\n",
       " [5, 4, 1],\n",
       " [5, 4, 2],\n",
       " [5, 4, 3],\n",
       " [5, 4, 4],\n",
       " [6, 0, 1],\n",
       " [6, 0, 2],\n",
       " [6, 0, 3],\n",
       " [6, 0, 4],\n",
       " [6, 1, 0],\n",
       " [6, 1, 1],\n",
       " [6, 1, 2],\n",
       " [6, 1, 3],\n",
       " [6, 1, 4],\n",
       " [6, 2, 0],\n",
       " [6, 2, 1],\n",
       " [6, 2, 2],\n",
       " [6, 2, 3],\n",
       " [6, 2, 4],\n",
       " [6, 3, 0],\n",
       " [6, 3, 1],\n",
       " [6, 3, 2],\n",
       " [6, 3, 3],\n",
       " [6, 3, 4],\n",
       " [6, 4, 0],\n",
       " [6, 4, 1],\n",
       " [6, 4, 2],\n",
       " [6, 4, 3],\n",
       " [6, 4, 4],\n",
       " [7, 0, 0],\n",
       " [7, 0, 1],\n",
       " [7, 0, 2],\n",
       " [7, 0, 3],\n",
       " [7, 0, 4],\n",
       " [7, 1, 0],\n",
       " [7, 1, 1],\n",
       " [7, 1, 2],\n",
       " [7, 1, 3],\n",
       " [7, 1, 4],\n",
       " [7, 2, 0],\n",
       " [7, 2, 1],\n",
       " [7, 2, 2],\n",
       " [7, 2, 3],\n",
       " [7, 2, 4],\n",
       " [7, 3, 0],\n",
       " [7, 3, 1],\n",
       " [7, 3, 2],\n",
       " [7, 3, 3],\n",
       " [7, 3, 4],\n",
       " [7, 4, 0],\n",
       " [7, 4, 1],\n",
       " [7, 4, 2],\n",
       " [7, 4, 3],\n",
       " [7, 4, 4],\n",
       " [8, 0, 0],\n",
       " [8, 0, 1],\n",
       " [8, 0, 2],\n",
       " [8, 0, 3],\n",
       " [8, 0, 4],\n",
       " [8, 1, 0],\n",
       " [8, 1, 1],\n",
       " [8, 1, 2],\n",
       " [8, 1, 3],\n",
       " [8, 1, 4],\n",
       " [8, 2, 0],\n",
       " [8, 2, 1],\n",
       " [8, 2, 2],\n",
       " [8, 2, 3],\n",
       " [8, 2, 4],\n",
       " [8, 3, 0],\n",
       " [8, 3, 1],\n",
       " [8, 3, 2],\n",
       " [8, 3, 3],\n",
       " [8, 3, 4],\n",
       " [8, 4, 0],\n",
       " [8, 4, 1],\n",
       " [8, 4, 2],\n",
       " [8, 4, 3],\n",
       " [8, 4, 4],\n",
       " [9, 0, 0],\n",
       " [9, 0, 1],\n",
       " [9, 0, 2],\n",
       " [9, 0, 3],\n",
       " [9, 0, 4],\n",
       " [9, 1, 0],\n",
       " [9, 1, 1],\n",
       " [9, 1, 2],\n",
       " [9, 1, 3],\n",
       " [9, 1, 4],\n",
       " [9, 2, 0],\n",
       " [9, 2, 1],\n",
       " [9, 2, 2],\n",
       " [9, 2, 3],\n",
       " [9, 2, 4],\n",
       " [9, 3, 0],\n",
       " [9, 3, 1],\n",
       " [9, 3, 2],\n",
       " [9, 3, 3],\n",
       " [9, 3, 4],\n",
       " [9, 4, 0],\n",
       " [9, 4, 1],\n",
       " [9, 4, 2],\n",
       " [9, 4, 3],\n",
       " [9, 4, 4]]"
      ]
     },
     "execution_count": 20,
     "metadata": {},
     "output_type": "execute_result"
    }
   ],
   "source": [
    "[[i,j,k] for i in range(10) for j in range(5) for k in range(5) if(i+j+k!=6)]"
   ]
  },
  {
   "cell_type": "code",
   "execution_count": null,
   "metadata": {
    "collapsed": true
   },
   "outputs": [],
   "source": [
    "#set of numbers not equal to a particular number here value of n"
   ]
  },
  {
   "cell_type": "code",
   "execution_count": 2,
   "metadata": {},
   "outputs": [
    {
     "name": "stdout",
     "output_type": "stream",
     "text": [
      "2\n",
      "2\n",
      "3\n",
      "5\n",
      "[[0, 0, 0], [0, 0, 1], [0, 0, 2], [0, 0, 3], [0, 1, 0], [0, 1, 1], [0, 1, 2], [0, 1, 3], [0, 2, 0], [0, 2, 1], [0, 2, 2], [1, 0, 0], [1, 0, 1], [1, 0, 2], [1, 0, 3], [1, 1, 0], [1, 1, 1], [1, 1, 2], [1, 2, 0], [1, 2, 1], [1, 2, 3], [2, 0, 0], [2, 0, 1], [2, 0, 2], [2, 1, 0], [2, 1, 1], [2, 1, 3], [2, 2, 0], [2, 2, 2], [2, 2, 3]]\n"
     ]
    }
   ],
   "source": [
    "    x = int(input())\n",
    "    y = int(input())\n",
    "    z = int(input())\n",
    "    n = int(input())\n",
    "    sol=[[i,j,k] for i in range(x+1) for j in range(y+1) for k in range(z+1) if(i+j+k!=n)]\n",
    "    print(sol)"
   ]
  }
 ],
 "metadata": {
  "kernelspec": {
   "display_name": "Python 3",
   "language": "python",
   "name": "python3"
  },
  "language_info": {
   "codemirror_mode": {
    "name": "ipython",
    "version": 3
   },
   "file_extension": ".py",
   "mimetype": "text/x-python",
   "name": "python",
   "nbconvert_exporter": "python",
   "pygments_lexer": "ipython3",
   "version": "3.6.3"
  }
 },
 "nbformat": 4,
 "nbformat_minor": 2
}
