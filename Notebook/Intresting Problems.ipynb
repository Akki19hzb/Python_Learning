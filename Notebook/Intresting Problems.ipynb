{
 "cells": [
  {
   "cell_type": "code",
   "execution_count": 4,
   "metadata": {},
   "outputs": [
    {
     "name": "stdout",
     "output_type": "stream",
     "text": [
      "5\n",
      "1 8 9 6 8\n",
      "8\n"
     ]
    }
   ],
   "source": [
    "#2nd Greatest Number from the list of input \n",
    "n = int(input())\n",
    "arr = map(int, input().split())\n",
    "print (sorted(list(set(arr)))[-2])"
   ]
  },
  {
   "cell_type": "code",
   "execution_count": 6,
   "metadata": {},
   "outputs": [
    {
     "name": "stdout",
     "output_type": "stream",
     "text": [
      "5\n",
      "Harry \n",
      "37.2\n",
      "Berry\n",
      "37.2\n",
      "Tina \n",
      "37.19\n",
      "Akriti\n",
      "41\n",
      "Harsh\n",
      "39\n",
      "Berry\n",
      "Harry \n"
     ]
    }
   ],
   "source": [
    "# Print the name(s) of any student(s) having the second lowest grade in Physics;\n",
    "#if there are multiple students, order their names alphabetically and print each one on a new line.\n",
    "\n",
    "n= int(input())\n",
    "arr=[[input(),float(input())] for _ in range(n)]\n",
    "marksheet=sorted(set(b for a,b in arr))[1]\n",
    "print(\"\\n\".join(sorted(a for a,b in arr if b==marksheet)))\n"
   ]
  },
  {
   "cell_type": "code",
   "execution_count": 4,
   "metadata": {},
   "outputs": [
    {
     "name": "stdout",
     "output_type": "stream",
     "text": [
      "AKJFSDKkjkfjkF34FJFdjjd\n"
     ]
    }
   ],
   "source": [
    "s=\"akjfsdkKJKFJKf34fjfDJJD\"\n",
    "to_print=''.join([i.lower() if i.isupper() else i.upper() for i in s])\n",
    "print(to_print)"
   ]
  },
  {
   "cell_type": "code",
   "execution_count": 7,
   "metadata": {},
   "outputs": [
    {
     "name": "stdout",
     "output_type": "stream",
     "text": [
      "5\n",
      "[1, 2, 3, 'four']\n"
     ]
    }
   ],
   "source": [
    "n= int(input())\n",
    "ar = [('four' if i % 4 == 0 else ('six' if i % 6 == 0 else i)) for i in range(1, n)]\n",
    "print(ar)"
   ]
  },
  {
   "cell_type": "code",
   "execution_count": 8,
   "metadata": {},
   "outputs": [
    {
     "name": "stdout",
     "output_type": "stream",
     "text": [
      "AKJFSDKkjkfjkFjsfdhjsfdhFJFdjjd\n"
     ]
    }
   ],
   "source": [
    "#SwapCase## can also use swapacase() method instead\n",
    "s=\"akjfsdkKJKFJKf34fjfDJJD\"\n",
    "to_print=''.join([i.lower() if i.isupper() else(i.upper() if i.islower() else \"jsfdh\") for i in s])\n",
    "print(to_print)"
   ]
  },
  {
   "cell_type": "code",
   "execution_count": 18,
   "metadata": {},
   "outputs": [
    {
     "name": "stdout",
     "output_type": "stream",
     "text": [
      "ABCDCDC\n",
      "CDC\n",
      "2\n"
     ]
    }
   ],
   "source": [
    "#Count of substring within a string\n",
    "string,substr=input(),input()\n",
    "len_substr= len(substr)\n",
    "count=0\n",
    "for i in range(len(string)):\n",
    "    if string[i]==substr[0]:\n",
    "        if string[i:(i+len_substr)]==substr:\n",
    "            count +=1\n",
    "print(count)            \n",
    "        "
   ]
  },
  {
   "cell_type": "code",
   "execution_count": 19,
   "metadata": {},
   "outputs": [
    {
     "name": "stdout",
     "output_type": "stream",
     "text": [
      "ABCDCDC\n",
      "CDC\n",
      "2\n"
     ]
    }
   ],
   "source": [
    "#Count of substring within a string #using comprehension\n",
    "string,substr=input(),input()\n",
    "print(sum([1 for i in range(len(string)-len(substr)+1) if string[i:len(substr)+i]==substr]))\n"
   ]
  },
  {
   "cell_type": "code",
   "execution_count": 6,
   "metadata": {},
   "outputs": [
    {
     "name": "stdout",
     "output_type": "stream",
     "text": [
      "ABCD\n",
      "EFGH\n",
      "IJKL\n",
      "IMNO\n",
      "QRST\n",
      "UVWX\n",
      "YZ\n"
     ]
    }
   ],
   "source": [
    "string='ABCDEFGHIJKLIMNOQRSTUVWXYZ'\n",
    "max_width=4\n",
    "for i in range(0,len(string)+1,max_width):\n",
    "    print(string[i:i+max_width])  \n",
    "        "
   ]
  },
  {
   "cell_type": "code",
   "execution_count": 3,
   "metadata": {},
   "outputs": [
    {
     "name": "stdout",
     "output_type": "stream",
     "text": [
      "8\n",
      " 1 2 3 4 4 3 2 5\n",
      "{1, 5}\n"
     ]
    }
   ],
   "source": [
    "#Find the element in list which occurs only once \n",
    "n= int(input())\n",
    "a=input().split()\n",
    "s1=set()\n",
    "s2=set()\n",
    "for i in a:\n",
    "    if i not in s1:\n",
    "        s1.add(i) ##stores only once\n",
    "    else:\n",
    "        s2.add(i) ##stores elements which have occured more than once\n",
    "print(set(map(int,(s1.difference(s2)))))"
   ]
  },
  {
   "cell_type": "code",
   "execution_count": null,
   "metadata": {
    "collapsed": true
   },
   "outputs": [],
   "source": []
  }
 ],
 "metadata": {
  "kernelspec": {
   "display_name": "Python 3",
   "language": "python",
   "name": "python3"
  },
  "language_info": {
   "codemirror_mode": {
    "name": "ipython",
    "version": 3
   },
   "file_extension": ".py",
   "mimetype": "text/x-python",
   "name": "python",
   "nbconvert_exporter": "python",
   "pygments_lexer": "ipython3",
   "version": "3.6.3"
  }
 },
 "nbformat": 4,
 "nbformat_minor": 2
}
